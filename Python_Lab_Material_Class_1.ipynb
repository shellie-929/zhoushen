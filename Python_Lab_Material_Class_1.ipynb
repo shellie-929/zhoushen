{
  "nbformat": 4,
  "nbformat_minor": 0,
  "metadata": {
    "colab": {
      "provenance": [],
      "toc_visible": true,
      "authorship_tag": "ABX9TyNQSYOyAhGzgJEBOm07XEZ2",
      "include_colab_link": true
    },
    "kernelspec": {
      "name": "python3",
      "display_name": "Python 3"
    },
    "language_info": {
      "name": "python"
    }
  },
  "cells": [
    {
      "cell_type": "markdown",
      "metadata": {
        "id": "view-in-github",
        "colab_type": "text"
      },
      "source": [
        "<a href=\"https://colab.research.google.com/github/shellie-929/zhoushen/blob/main/Python_Lab_Material_Class_1.ipynb\" target=\"_parent\"><img src=\"https://colab.research.google.com/assets/colab-badge.svg\" alt=\"Open In Colab\"/></a>"
      ]
    },
    {
      "cell_type": "code",
      "source": [
        "def day_old_bread():\n",
        "  discount=0.6\n",
        "  per_price=3.49\n",
        "\n",
        "  bread_number=int(input(\"Please input the number of bread:\"))\n",
        "  regular_price=bread_number*per_price\n",
        "  discount_price=regular_price*discount\n",
        "  total_price=regular_price-discount_price\n",
        "  print(f\"Regular price:￡{per_price:.2f}\")\n",
        "  print(f\"Total price:￡{total_price:.2f}\")\n",
        "\n",
        "day_old_bread()"
      ],
      "metadata": {
        "colab": {
          "base_uri": "https://localhost:8080/"
        },
        "id": "dLzUoMH2tFi6",
        "outputId": "49ed6b46-228b-4938-88af-bee966888980"
      },
      "execution_count": null,
      "outputs": [
        {
          "output_type": "stream",
          "name": "stdout",
          "text": [
            "Please input the number of bread:10\n",
            "Regular price:￡3.49\n",
            "Total price:￡13.96\n"
          ]
        }
      ]
    },
    {
      "cell_type": "code",
      "source": [
        "song=input(\"your favorite song is:\")\n",
        "starting_number=int(input(\"please input to start(start with zero):\"))\n",
        "ending_number=int(input(\"please input to finish:\"))\n",
        "print(f\"length of this string:{len(song)}\")\n",
        "print(f\"slided:{song[starting_number:ending_number]}\")\n"
      ],
      "metadata": {
        "colab": {
          "base_uri": "https://localhost:8080/"
        },
        "id": "9vB1B-gB35l7",
        "outputId": "3406524d-1037-46c8-9d1a-d0a9b93e10f7"
      },
      "execution_count": null,
      "outputs": [
        {
          "output_type": "stream",
          "name": "stdout",
          "text": [
            "your favorite song is:life blooms like a flower\n",
            "please input to start(start with zero):3\n",
            "please input to finish:10\n",
            "length of this string:25\n",
            "slided:e bloom\n"
          ]
        }
      ]
    },
    {
      "cell_type": "code",
      "source": [
        "first_name=input(\"your first name is:\")\n",
        "if len(first_name)<5:\n",
        "  surname=input(\"your surname is:\")\n",
        "  name=print((first_name+\" \"+surname).upper())\n",
        "else: print(f\"{first_name.lower()}\")"
      ],
      "metadata": {
        "colab": {
          "base_uri": "https://localhost:8080/"
        },
        "id": "Ztcuqucm89vB",
        "outputId": "4788e89d-3f07-42d0-bb1a-be2467e59535"
      },
      "execution_count": null,
      "outputs": [
        {
          "output_type": "stream",
          "name": "stdout",
          "text": [
            "your first name is:shen\n",
            "your surname is:zhou\n",
            "SHEN ZHOU\n"
          ]
        }
      ]
    },
    {
      "cell_type": "code",
      "source": [
        "word=input(\"please enter a word:\")\n",
        "if word[0] in \"aeiou\":\n",
        "  word=word+\"way\"\n",
        "  print(word)\n",
        "else:\n",
        "  word=word[1:]+word[0]+\"ay\"\n",
        "  print(word)\n"
      ],
      "metadata": {
        "colab": {
          "base_uri": "https://localhost:8080/"
        },
        "id": "9Rx_2r5Y_utQ",
        "outputId": "ff296335-7dc8-4faf-bd37-714961510ab2"
      },
      "execution_count": null,
      "outputs": [
        {
          "output_type": "stream",
          "name": "stdout",
          "text": [
            "please enter a word:maybe\n",
            "aybemay\n"
          ]
        }
      ]
    },
    {
      "cell_type": "code",
      "source": [
        "raining=(input(\"is it raining?(yes/no)\")).lower()\n",
        "if raining==\"yes\":\n",
        "  windy=input(\"is it windy?(yes/no)\")\n",
        "  if windy==\"yes\":\n",
        "    print(\"It's too windy for an umbrella\")\n",
        "  else: print(\"Take an umbrella\")\n",
        "else: print(\"Enjoy your day\")"
      ],
      "metadata": {
        "colab": {
          "base_uri": "https://localhost:8080/"
        },
        "id": "oqZwEWYlBc3P",
        "outputId": "f27f9c11-44ed-4de1-85d7-abec1ce1657b"
      },
      "execution_count": null,
      "outputs": [
        {
          "output_type": "stream",
          "name": "stdout",
          "text": [
            "is it raining?(yes/no)no\n",
            "Enjoy your day\n"
          ]
        }
      ]
    },
    {
      "cell_type": "code",
      "source": [
        "age=int(input(\"please input your age:\"))\n",
        "if age>=18:\n",
        "  print(\"you can vote.\")\n",
        "elif age==17:\n",
        "  print(\"you can learn how to drive.\")\n",
        "elif age==16:\n",
        "  print(\"you can buy a lottery ticket.\")\n",
        "elif age<16:\n",
        "  print(\"You can go Trick-or-Treating.\")"
      ],
      "metadata": {
        "colab": {
          "base_uri": "https://localhost:8080/"
        },
        "id": "CM95oDIbl-jx",
        "outputId": "0fc9a36b-3a1a-4845-b62e-acec66e3c227"
      },
      "execution_count": null,
      "outputs": [
        {
          "output_type": "stream",
          "name": "stdout",
          "text": [
            "please input your age:15\n",
            "You can go Trick-or-Treating.\n"
          ]
        }
      ]
    },
    {
      "cell_type": "code",
      "source": [
        "number=int(input(\"Enter a number:\"))\n",
        "if number%2==0:\n",
        "  print(\"This number is even.\")\n",
        "else: print(\"This number is odd.\")"
      ],
      "metadata": {
        "colab": {
          "base_uri": "https://localhost:8080/"
        },
        "id": "7coT0fOJyIZ7",
        "outputId": "6bb77651-86f7-464d-b7bc-0c0475c9ec21"
      },
      "execution_count": null,
      "outputs": [
        {
          "output_type": "stream",
          "name": "stdout",
          "text": [
            "Enter a number:0\n",
            "This number is even.\n"
          ]
        }
      ]
    },
    {
      "cell_type": "code",
      "source": [
        "letter=input(\"Enter a letter:\")\n",
        "if letter in \"aeiou\":\n",
        "  print(f\"{letter} is a vowel.\")\n",
        "elif letter==\"y\":\n",
        "  print(f\"sometimes {letter} is a vowel and sometimes a consonant.\")\n",
        "else:\n",
        "  print(f\"{letter} is a consonant.\")"
      ],
      "metadata": {
        "colab": {
          "base_uri": "https://localhost:8080/"
        },
        "id": "oGd76g0sztl0",
        "outputId": "226be1b5-952b-46fa-8e6a-0397850e6683"
      },
      "execution_count": null,
      "outputs": [
        {
          "output_type": "stream",
          "name": "stdout",
          "text": [
            "Enter a letter:s\n",
            "s is a consonant.\n"
          ]
        }
      ]
    },
    {
      "cell_type": "code",
      "source": [
        "sides=int(input(\"Enter the number of sides of the shape:\"))\n",
        "if sides==3:\n",
        "  print(\"The shape is triangle.\")\n",
        "elif sides==4:\n",
        "  print(\"The shape is 4.\")\n",
        "elif sides==5:\n",
        "  print(\"The shape is 5.\")\n",
        "elif sides==6:\n",
        "  print(\"The shape is 6.\")\n",
        "elif sides==7:\n",
        "  print(\"The shape is 7.\")\n",
        "elif sides==8:\n",
        "  print(\"The shape is 8.\")\n",
        "elif sides==9:\n",
        "  print(\"The shape is 9.\")\n",
        "elif sides==10:\n",
        "  print(\"The shape is 10.\")\n",
        "else:\n",
        "  print(\"default\")"
      ],
      "metadata": {
        "colab": {
          "base_uri": "https://localhost:8080/"
        },
        "id": "oujkSHrg_mpv",
        "outputId": "7697d87c-e914-4e5d-fb2c-627ff38ed6ec"
      },
      "execution_count": null,
      "outputs": [
        {
          "output_type": "stream",
          "name": "stdout",
          "text": [
            "Enter the number of sides of the shape:7\n",
            "The shape is 7.\n"
          ]
        }
      ]
    },
    {
      "cell_type": "code",
      "source": [
        "sides1=float(input(\"Enter sides1:\"))\n",
        "sides2=float(input(\"Enter sides2:\"))\n",
        "sides3=float(input(\"Enter sides3:\"))\n",
        "if sides1==sides2==sides3:\n",
        "  print(\"An equilateral triangle\")\n",
        "elif sides1==sides2 or sides1==sides3 or sides2==sides3:\n",
        "  print(\"An isosceles triangle\")\n",
        "else:\n",
        "  print(\"The triangle is scalene5\")"
      ],
      "metadata": {
        "colab": {
          "base_uri": "https://localhost:8080/"
        },
        "id": "fMhtgmqUB5A4",
        "outputId": "af375525-316c-4bdd-aaab-dde4b7e2b617"
      },
      "execution_count": null,
      "outputs": [
        {
          "output_type": "stream",
          "name": "stdout",
          "text": [
            "Enter sides1:5\n",
            "Enter sides2:5\n",
            "Enter sides3:5\n",
            "An equilateral triangle\n"
          ]
        }
      ]
    },
    {
      "cell_type": "code",
      "source": [
        "number=int(input(\"Enter a number:(1/2)\"))\n",
        "if number==1:\n",
        "  length=float(input(\"Enter the length of one of its sides:\"))\n",
        "  area_square=length*length\n",
        "  print(f\"the area of this square is {area_square:.2f}\")\n",
        "elif number==2:\n",
        "  base=float(input(\"Enter the base:\"))\n",
        "  height=float(input(\"Enter the height:\"))\n",
        "  area_triangle=base*height*0.5\n",
        "  print(f\"the area of this triangle is {area_triangle:.2f}\")\n",
        "else:\n",
        "  print(\"error\")"
      ],
      "metadata": {
        "colab": {
          "base_uri": "https://localhost:8080/"
        },
        "id": "Rm_9VAkSDV9B",
        "outputId": "f0d3ded7-da72-4a6e-f1ee-5af679dc7957"
      },
      "execution_count": null,
      "outputs": [
        {
          "output_type": "stream",
          "name": "stdout",
          "text": [
            "Enter a number:(1/2)3\n",
            "error\n"
          ]
        }
      ]
    }
  ]
}